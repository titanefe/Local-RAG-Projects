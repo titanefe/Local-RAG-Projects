{
 "cells": [
  {
   "cell_type": "code",
   "execution_count": null,
   "id": "4a6a1bb3",
   "metadata": {},
   "outputs": [],
   "source": [
    "#Installs\n",
    "%pip install langchain langchain-community langchain-ollama langchain-text-splitters chromadb unstructured pypdf faiss-cpu protobuf IPython\n"
   ]
  },
  {
   "cell_type": "code",
   "execution_count": null,
   "id": "52427e70",
   "metadata": {},
   "outputs": [],
   "source": [
    "# Imports\n",
    "from langchain_community.document_loaders import UnstructuredPDFLoader\n",
    "from langchain_ollama import OllamaEmbeddings\n",
    "from langchain_text_splitters import RecursiveCharacterTextSplitter\n",
    "from langchain_community.vectorstores import Chroma\n",
    "from langchain.prompts import ChatPromptTemplate, PromptTemplate\n",
    "from langchain_core.output_parsers import StrOutputParser\n",
    "from langchain_ollama.chat_models import ChatOllama\n",
    "from langchain_core.runnables import RunnablePassthrough\n",
    "from langchain.retrievers.multi_query import MultiQueryRetriever\n",
    "from langchain_community.vectorstores import FAISS\n",
    "from langchain_community.llms import Ollama\n",
    "from langchain.chains import RetrievalQA\n",
    "from langchain_community.document_loaders import PyPDFLoader\n",
    "import chromadb\n",
    "from langchain.embeddings import OllamaEmbeddings\n",
    "from langchain.vectorstores import Chroma\n",
    "from langchain.text_splitter import RecursiveCharacterTextSplitter\n",
    "from langchain.document_loaders import UnstructuredPDFLoader\n",
    "\n",
    "\n",
    "# Suppress warnings\n",
    "import warnings\n",
    "warnings.filterwarnings('ignore')\n",
    "\n",
    "# Jupyter-specific imports\n",
    "from IPython.display import display, Markdown\n",
    "\n",
    "# Set environment variable for protobuf\n",
    "import os\n",
    "os.environ[\"PROTOCOL_BUFFERS_PYTHON_IMPLEMENTATION\"] = \"python\""
   ]
  },
  {
   "cell_type": "code",
   "execution_count": null,
   "id": "61462b6a",
   "metadata": {},
   "outputs": [],
   "source": [
    "# Load the PDF\n",
    "loader = PyPDFLoader(\"a13.pdf\")\n",
    "documents = loader.load()\n",
    "\n",
    "# Split into chunks\n",
    "text_splitter = RecursiveCharacterTextSplitter(chunk_size=1000, chunk_overlap=200)\n",
    "chunks = text_splitter.split_documents(documents)\n",
    "\n",
    "print(f\"Loaded {len(documents)} pages and split into {len(chunks)} chunks\")\n",
    "print(\"First chunk preview:\\n\", chunks[0].page_content[:300])"
   ]
  },
  {
   "cell_type": "code",
   "execution_count": null,
   "id": "553b20b3",
   "metadata": {},
   "outputs": [],
   "source": [
    "# 3. Create embeddings and vector store directly\n",
    "print(\"Creating embeddings and vector store (this may take a few minutes)...\")\n",
    "embeddings = OllamaEmbeddings(model=\"nomic-embed-text\")\n",
    "vector_store = FAISS.from_documents(chunks, embeddings)\n",
    "print(\"Vector store created successfully\")"
   ]
  },
  {
   "cell_type": "code",
   "execution_count": null,
   "id": "e62918e3",
   "metadata": {},
   "outputs": [],
   "source": [
    "# 5. Set up a simple retriever\n",
    "print(\"Setting up retriever...\")\n",
    "retriever = vector_store.as_retriever(search_kwargs={\"k\": 5})  \n",
    "\n",
    "# 6. Set up the LLM with reduced context\n",
    "llm = Ollama(model=\"deepseek-r1:1.5b\", temperature=0.1)# Zero temperature for more factual responses\n",
    "\n",
    "# 7. Create QA chain\n",
    "print(\"Creating QA chain...\")\n",
    "qa_chain = RetrievalQA.from_chain_type(\n",
    "    llm=llm,\n",
    "    chain_type=\"stuff\",\n",
    "    retriever=retriever,\n",
    "    return_source_documents=True\n",
    ")"
   ]
  },
  {
   "cell_type": "code",
   "execution_count": null,
   "id": "22398038",
   "metadata": {},
   "outputs": [],
   "source": [
    " # Enter Your Question\n",
    "question = \"You are a strict teacher and you must read the following IB TOK Essay and must give it a number score from 0 to 10 based on parameters. You must only give a number point score as Score:X and dont give any feedback or comment.Only tell the score number by strictly checking the rubics and don't graant the points if it doesnt match the descriptions in assesment for tok essay part in context. Be honest and harsh only give the deserved point with no emotions involved. Essay: For us to completely have credence in the knowledge being produced and to develop a world-view, proper conclusions are vital. This is because of the convolution of our world and the various hypothesis devised, evoking the necessity for proof and validity, which can be done through replicability. Hence, the production of knowledge stipulates the need for replicability in order to procure conclusions. Replicability is the attribute to duplicate or to be produced in the same manner in order to obtain a consistent result. It uses the same procedure and same techniques but new data, this is to demonstrate the validity of the knowledge of the original study. However, the replicability of knowledge doesn't always assure the success of the conclusions obtained. The production of knowledge is negatively afflicted by factors like forgery, human biases, greed, etc. These numerous factors impacting this process, hence bringing out the error in knowledge acquisition. Thus, further provoking the question if replicability is imperative in knowledge creation. The replicability of knowledge focuses on multiple aspects of human life and research, this includes natural sciences and history (AoKs), which is what this essay will be focusing on. Integrating through these two Aoks, the argument of whether replicability is required in the production of knowledge will be analyzed and concluded upon.In natural sciences, replicability plays a key role in the production of scientific knowledge whereas understanding helps achieve the purpose of this role. In order to develop understanding, reproduction of knowledge is necessary. With growing technology and innovation in the scientific world, issues and problems start to arise, hence this requires the examination and replication of the knowledge produced to make conclusions. This can be observed in the 1998 article published by a now discredited british researcher - Dr. Andrew Wakefield, in relation to a link between childhood vaccinations and autism (“Update 1-Autism-Vaccine Researcher a ‘Fraud’ -Medical Journal.”). This resulted in numerous parents reluctant and opposed to get their children vaccinated causing children dying of sickness and rising epidemics. After the publication of the original study, researchers were inefficacious in replicating the study and declared the study as erroneous. Through the help of investigators, it was found out that the author of the original research has received a huge sum of money to find a link between childhood vaccinations and autism, and when he was incapable in doing so, faked the results. Without replication of knowledge which here is the study, researchers would not have been able to find a proper conclusion and solve the issue of rise in epidemics and diseases. The replicability of knowledge through original study, assists in bringing a purpose and the understanding of knowledge - replication to find the truth, aids in achieving this purpose to eliminate fraudulency, in this example. This shows the exigency of replicability in the production of knowledge and the crucial role it plays in making valid conclusions in natural sciences. Moreover, this example also brings out an ethical perspective because it covers the ethicality of decision making and reliability on research especially in the medical field.In contrast, replicability and understanding the purpose isn't the only factor that helps in achieving the production of scientific knowledge. The presence of various other factors influence the production of knowledge in the scientific community. These factors include accessibility, information acquisition, similar materials requirements and the nature of the situation. The several issues arising overtime cannot be solved through replicability of knowledge, hence outlining the absence of drawing proper conclusions and displaying that replicability isn't necessary. This lack of conclusion can be distinguished in the several replication trial errors of the cancer biology studies conducted by the researchers from the “Reproducibility Project: Cancer Biology” (Haelle). From the 53 cancer papers produced, the researchers intended to take 193 experiments in order to replicate them. This replication trial took a retraction when the researchers were futile in finishing the majority of the experiments. This was because of the unavailability of appropriate information from the original study and limited access to necessary resources, hence adding to the aforementioned claim with regards to the factors affecting replicability. Taken from 23 papers, 50 trials administered has an “effect size” of 85 percent lower than the original findings. This adds evidence to the statement that replicability of knowledge does not aid in providing conclusions, thus is not required. The dissimilarity between the study done by the researchers and the original study demonstrates the redundance of replicability in the production of knowledge. Furthermore, this augments the claim that replicability is not necessary in the knowledge generation process, in order to derive conclusions in natural sciences.In history, replicability of knowledge is crucial for the motive of comprehension through suitable descriptions of past events. Replicability in history aids in bringing out fallacious belief by focusing on vital dissimilarities in research methods and bringing out forgotten evidence to the study. With the help of these benefits, replicability assists in delivering the deserved value to knowledge. Moreover, the developed research methods can also be implemented for future research and knowledge expansion and evolution. These developments of creditable and viable research is accentuated in the 2013 declaration of the “Sunset at Montmajour” artwork as Vincent van Gogh's own piece of art (Siegal). This artwork created in 1888 was esteemed as an counterfeit for over a century. During 2011, after experts rejected the artwork numerous times due to its inauthenticity, researchers finally gave in, took it and started analyzing it. With the aid of the new techniques and methods created to study the artwork, researchers were able to discover commonalities and patterns between the artwork and Vincent van Gogh's previous artworks, Hence, declaring it as an artwork of his. The senior researcher working on this research mentioned the generation of various new techniques and methods in order to identify the authenticity of an artwork. Furthermore, these new techniques can also be implemented in identifications of future artworks, thus ensuring these artworks are given their deserved recognition. The artwork now cost approximately ten million dollars and depicts the value it has in society now. The portrayal of replicability is evidently displayed in this example of the artwork. From mending a fallacious belief to bringing huge value to this artwork, which is knowledge in this context, the immense need for replicability is recognised. Not only have the creation of these new methods salvaged the artwork from future abandonment but have also saved numerous art studies useful for aspiring artists to learn from this valuable art. Lastly, through this example the vital necessity for replicability in knowledge production is exhibited.To counter claim this, replicability of knowledge isn't always viable in different historical contexts for the motive of comprehension. There is a pluralistic view emerging from these kinds of research which may seem inaccurate through the replicability process but rather is an intrinsic part of the research. These pluralistic views then further assist in the improvement of research methodologies and discoveries. Hence, the implementation of replicability in researches like these is impracticable. For example, the unfolding of these pluralistic views are widely highlighted in the journal article of human migration studies by Asya Pisarevskaya, Nathan Levy, Peter Scholten and Joost Jansen published on 13th August, 2019 (Pisarevskaya). The article focuses on the empirical analysis of migration studies receiving several focus shifts on prominent topics. It centers on the transition of the study from “geographics to mobilities” over thirty years of development enabling a nuanced understanding. Moreover, a pattern of paradigmatic shift can also be through this developments. These shifts lead to new developments and new additions to the existing study. While conducting a replicability study for migration, it would not lead to a single answer but rather numerous pathways, considering the various shifts in development. This unavailability of a single answer might be considered as a fallacy in the replicability study but in reality, the various pathways add a great value to the research and help in depicting these paradigm shifts. Furthermore, this also implies that enforcing a particular criterion or benchmark causes inefficiency in the replicability study. These benchmarks also restrict the disparate observations and the various speculations which could be made. Hence, utilizing the aforementioned points, evidence to the redundant nature of replicability in the example of the migration study which proves that replicability in the production of knowledge is unessential can be perceived.In conclusion, this investigation has been able to prove the claim that replicability is not necessary in the production of knowledge. To understand the need for replicability with regards to knowledge generation, it is crucial to comprehend the type and extent of analysis that a particular knowledge requires. Doing so avails the bigger picture of the necessity of replicability and hence, a decision can be made in relation to that. Ultimately, knowledge depends on numerous circumstantial factors like pluralistic views, fallacies, accessibility, acquisition of information, which highly influence the outcome of a particular study/research. The aforementioned evidences evince the assertion that replicability is not always required while producing knowledge. Through the two AOK lenses of natural sciences and history the redundant nature of replicability while producing knowledge is brought out and supports the main claim of the unnecessity of replicability in the production of knowledge.BibliographyGuttinger, Stephan. “The Limits of Replicability - European Journal for Philosophy of Science.” SpringerLink, Springer Netherlands, 15 Jan. 2020, https://link.springer.com/article/10.1007/s13194-019-0269-1.Haelle, Tara. “Dozens of Major Cancer Studies Can't Be Replicated.” Science News, 11 Apr. 2022, https://www.sciencenews.org/article/cancer-biology-studies-research-replication-reprodu cibility.Penders, Bart, et al. “Rinse and Repeat: Understanding the Value of Replication across Different Ways of Knowing.” MDPI, Multidisciplinary Digital Publishing Institute, 17 July 2019, https://www.mdpi.com/2304-6775/7/3/52.“Update 1-Autism-Vaccine Researcher a ‘Fraud’ -Medical Journal.” Reuters, Thomson Reuters, 6 Jan. 2011, https://www.reuters.com/article/autism-vaccines-idUSN053966320110106.Pisarevskaya, Asya, et al. “Mapping Migration Studies: An Empirical Analysis of the Coming of Age of a Research Field.” Academic.oup.com, 13 Aug. 2019, https://academic.oup.com/migration/article/8/3/455/5543467.Siegal, Nina. “A Van Gogh's Trip from the Attic to the Museum.” The New York Times, The New York Times, 9 Sept. 2013, https://www.nytimes.com/2013/09/10/arts/design/new-van-gogh-painting-discovered-in\u0002amsterdam.html#commentsContainer\"\n",
    "result = qa_chain({\"query\": question})\n",
    "print(\"\\nAnswer:\", result[\"result\"])\n"
   ]
  },
  {
   "cell_type": "code",
   "execution_count": null,
   "id": "00d80a79",
   "metadata": {},
   "outputs": [],
   "source": [
    "#alternatif\n",
    "except Exception as e:\n",
    "print(f\"Error: {e}\")\n",
    "if \"connection refused\" in str(e).lower():\n",
    "print(\"Make sure Ollama is running in the background\")"
   ]
  },
  {
   "cell_type": "code",
   "execution_count": null,
   "id": "b7dd48dc",
   "metadata": {},
   "outputs": [],
   "source": [
    "#alternatif\n",
    "vector_db = Chroma.from_documents(\n",
    "    documents=chunks,\n",
    "    embedding=OllamaEmbeddings(model=\"nomic-embed-text\"),\n",
    "    collection_name=\"local-rag\"\n",
    ")"
   ]
  },
  {
   "cell_type": "code",
   "execution_count": null,
   "id": "c29be610",
   "metadata": {},
   "outputs": [],
   "source": [
    "#alternatif\n",
    "# Set up LLM and retrieval\n",
    "local_model = \"llama3.2\"  # or whichever model you prefer\n",
    "llm = ChatOllama(model=local_model)\n",
    "# Query prompt template\n",
    "QUERY_PROMPT = PromptTemplate(\n",
    "    input_variables=[\"question\"],\n",
    "    template=\"\"\"You are an AI language model assistant. Your Name is MefTok3.0 and always introduce yourself before giving answers. Your task is to generate 2\n",
    "    different versions of the given user question to retrieve relevant documents from\n",
    "    a vector database. By generating multiple perspectives on the user question, your\n",
    "    goal is to help the user overcome some of the limitations of the distance-based\n",
    "    similarity search. Provide these alternative questions separated by newlines.\n",
    "    Original question: {question}\"\"\",\n",
    ")\n",
    "\n",
    "# Set up retriever\n",
    "retriever = MultiQueryRetriever.from_llm(\n",
    "    vector_db.as_retriever(), \n",
    "    llm,\n",
    "    prompt=QUERY_PROMPT\n",
    ")"
   ]
  },
  {
   "cell_type": "code",
   "execution_count": null,
   "id": "541f6978",
   "metadata": {},
   "outputs": [],
   "source": [
    "#alternatif\n",
    "# RAG prompt template\n",
    "template = \"\"\"Answer the question based ONLY on the following context:\n",
    "{context}\n",
    "Question: {question}\n",
    "\"\"\"\n",
    "\n",
    "prompt = ChatPromptTemplate.from_template(template)\n",
    "# Create chain\n",
    "chain = (\n",
    "    {\"context\": retriever, \"question\": RunnablePassthrough()}\n",
    "    | prompt\n",
    "    | llm\n",
    "    | StrOutputParser()\n",
    ")"
   ]
  },
  {
   "cell_type": "code",
   "execution_count": null,
   "id": "d3bcfab1",
   "metadata": {},
   "outputs": [],
   "source": [
    "#alternatif\n",
    "def chat_with_pdf(question):\n",
    "    \"\"\"\n",
    "    Chat with the PDF using the RAG chain.\n",
    "    \"\"\"\n",
    "    return display(Markdown(chain.invoke(question)))\n"
   ]
  },
  {
   "cell_type": "code",
   "execution_count": null,
   "id": "256d59e1",
   "metadata": {},
   "outputs": [],
   "source": [
    "#alternatif\n",
    "# Enter Your Essay\n",
    "chat_with_pdf(\"What is the main idea of this document?\")"
   ]
  }
 ],
 "metadata": {
  "kernelspec": {
   "display_name": "Python 3",
   "language": "python",
   "name": "python3"
  },
  "language_info": {
   "codemirror_mode": {
    "name": "ipython",
    "version": 3
   },
   "file_extension": ".py",
   "mimetype": "text/x-python",
   "name": "python",
   "nbconvert_exporter": "python",
   "pygments_lexer": "ipython3",
   "version": "3.13.3"
  }
 },
 "nbformat": 4,
 "nbformat_minor": 5
}
