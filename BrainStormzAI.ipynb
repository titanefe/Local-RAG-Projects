{
 "cells": [
  {
   "cell_type": "code",
   "execution_count": null,
   "id": "cb3a946b",
   "metadata": {},
   "outputs": [],
   "source": [
    "#Necessary Installs (Run only once)\n",
    "%pip install langchain langchain-community googletrans==4.0.0-rc1"
   ]
  },
  {
   "cell_type": "code",
   "execution_count": null,
   "id": "60ad5fc8",
   "metadata": {},
   "outputs": [],
   "source": [
    "# Import required libraries\n",
    "from langchain_ollama import OllamaLLM\n",
    "import math\n",
    "from IPython.display import clear_output\n",
    "import time \n",
    "from googletrans import Translator\n",
    "\n",
    "# Set up the LLM\n",
    "llm = OllamaLLM(model=\"deepseek-r1:1.5b\", temperature=0.1)\n",
    "verbose = False\n",
    "\n",
    "# Get initial question\n",
    "print(\"\\033[1;35mWelcome to BrainStormzAI!\\033[0m\")\n",
    "question = input(\"Enter your initial question: \")\n",
    "minutes = float(input(\"Kaç dakika çalışsın: \"))\n",
    "\n",
    "# Get the first answer\n",
    "print(\"Getting initial answer...\")\n",
    "current_answer = llm(question)\n",
    "print(f\"\\nAnswer 1:\\n{current_answer}\")\n",
    "print(\"-\" * 50)\n",
    "\n",
    "# Store all answers\n",
    "all_answers = [current_answer]\n",
    "iteration = 1\n",
    "\n",
    "#How Long Should It Work For\n",
    "time_per_iteration = 3  # minutes per iteration\n",
    "max_iterations = math.ceil((minutes / time_per_iteration)-1)\n",
    "time.sleep(2)\n",
    "clear_output(wait=True)\n",
    "print(f\"Program {max_iterations} tur çalışacak.\")\n",
    "\n",
    "# Auto-run the loop\n",
    "while iteration < max_iterations:\n",
    "    iteration += 1\n",
    "    next_question = f\"add detail to this: {current_answer}\"\n",
    "    print(f\"\\nAdding detail (iteration {iteration})...\")\n",
    "    current_answer = llm(next_question)\n",
    "    all_answers.append(current_answer)\n",
    "    print(f\"\\nAnswer {iteration}:\\n{current_answer}\")\n",
    "    print(\"-\" * 50)\n",
    "\n",
    "# Create and show final summary\n",
    "print(\"\\nCreating final summary...\")\n",
    "final_text = \"\\n\\n\".join(all_answers)\n",
    "summary = llm(f\"summarize this but don't take any information out: {final_text}\")\n",
    "clear_output(wait=True)\n",
    "print(\"\\033[1;35mFINAL SUMMARY:\\033[0m\")\n",
    "print(\"=\" * 60)\n",
    "translator = Translator()\n",
    "summaryTr = translator.translate({summary}, dest='tr')  # 'tr' is Turkish\n",
    "print(summaryTr.text) #Just print summary if you don't want translation"
   ]
  }
 ],
 "metadata": {
  "kernelspec": {
   "display_name": "Python 3",
   "language": "python",
   "name": "python3"
  },
  "language_info": {
   "codemirror_mode": {
    "name": "ipython",
    "version": 3
   },
   "file_extension": ".py",
   "mimetype": "text/x-python",
   "name": "python",
   "nbconvert_exporter": "python",
   "pygments_lexer": "ipython3",
   "version": "3.13.3"
  }
 },
 "nbformat": 4,
 "nbformat_minor": 5
}
